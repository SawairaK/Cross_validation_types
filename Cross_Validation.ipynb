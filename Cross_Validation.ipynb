{
  "nbformat": 4,
  "nbformat_minor": 0,
  "metadata": {
    "colab": {
      "provenance": [],
      "authorship_tag": "ABX9TyNlFpIdj2uw2Q8CeHU7bzlg",
      "include_colab_link": true
    },
    "kernelspec": {
      "name": "python3",
      "display_name": "Python 3"
    },
    "language_info": {
      "name": "python"
    }
  },
  "cells": [
    {
      "cell_type": "markdown",
      "metadata": {
        "id": "view-in-github",
        "colab_type": "text"
      },
      "source": [
        "<a href=\"https://colab.research.google.com/github/SawairaK/Cross_validation_types/blob/main/Cross_Validation.ipynb\" target=\"_parent\"><img src=\"https://colab.research.google.com/assets/colab-badge.svg\" alt=\"Open In Colab\"/></a>"
      ]
    },
    {
      "cell_type": "markdown",
      "source": [
        "# Importing the libraries\n",
        "**lightgbm** **is machine learning library.**\n",
        "LightGBM is a gradient boosting framework that uses tree based learning algorithms. It is designed to be distributed and efficient with the following advantages:\n",
        "\n",
        "\n",
        "\n",
        "1.   Faster training speed and higher efficiency.\n",
        "2.   Support of parallel, distributed, and GPU learning.\n",
        "3.   Capable of handling large-scale data\n",
        "4.   Better accuracy."
      ],
      "metadata": {
        "id": "bk2zBtogNtxT"
      }
    },
    {
      "cell_type": "code",
      "execution_count": 41,
      "metadata": {
        "colab": {
          "base_uri": "https://localhost:8080/"
        },
        "id": "9Ha8CGV_L1BV",
        "outputId": "accc7a3f-6f4a-4a6c-f534-9103a08a84c2"
      },
      "outputs": [
        {
          "output_type": "stream",
          "name": "stderr",
          "text": [
            "<ipython-input-41-80ed9307fc65>:18: MatplotlibDeprecationWarning: The seaborn styles shipped by Matplotlib are deprecated since 3.6, as they no longer correspond to the styles shipped by seaborn. However, they will remain available as 'seaborn-v0_8-<style>'. Alternatively, directly use the seaborn API instead.\n",
            "  plt.style.use('seaborn-white')\n"
          ]
        }
      ],
      "source": [
        "import pandas as pd\n",
        "import numpy as np\n",
        "\n",
        "import matplotlib.pylab as plt\n",
        "import lightgbm as lgb\n",
        "\n",
        "from sklearn.metrics import accuracy_score, roc_auc_score\n",
        "\n",
        "from sklearn.model_selection import (\n",
        "    train_test_split,\n",
        "    TimeSeriesSplit,\n",
        "    KFold,\n",
        "    StratifiedKFold,\n",
        "    GroupKFold,\n",
        "    StratifiedGroupKFold,\n",
        ")\n",
        "\n",
        "plt.style.use('seaborn-white')"
      ]
    },
    {
      "cell_type": "markdown",
      "source": [
        "## The Dataset\n",
        "This function read data with pandas it sets the format of data and then simply split the dataset into our training and testing part.\n",
        "so it use in general if we give other dataset like data in future that we plan to run model on"
      ],
      "metadata": {
        "id": "DBnOYEsbPy76"
      }
    },
    {
      "cell_type": "code",
      "source": [
        "def get_prep_data():\n",
        "    data = pd.read_csv('/content/healthcare-dataset-stroke-data.csv')\n",
        "\n",
        "    data[\"ever_married\"] = (\n",
        "        data[\"ever_married\"].replace(\"Yes\", True).replace(\"No\", False)\n",
        "    )\n",
        "\n",
        "    data[\"gender\"] = data[\"gender\"].astype(\"category\")\n",
        "    data[\"smoking_status\"] = data[\"smoking_status\"].astype(\"category\")\n",
        "    data[\"Residence_type\"] = data[\"Residence_type\"].astype(\"category\")\n",
        "    data[\"work_type\"] = data[\"work_type\"].astype(\"category\")\n",
        "    data[\"doctor\"] = np.random.randint(0, 8, size=len(data))\n",
        "    holdout_ids = data.sample(n=500, random_state=529).index\n",
        "\n",
        "    train = (\n",
        "        data.loc[~data.index.isin(holdout_ids)]\n",
        "        .sample(frac=1, random_state=529)\n",
        "        .sort_values(\"doctor\")\n",
        "        .reset_index(drop=True)\n",
        "    )\n",
        "    holdout = (\n",
        "        data.loc[data.index.isin(holdout_ids)]\n",
        "        .sample(frac=1, random_state=529)\n",
        "        .sort_values(\"doctor\")\n",
        "        .reset_index(drop=True)\n",
        "    )\n",
        "\n",
        "    return train, holdout\n",
        "\n",
        "train, holdout = get_prep_data()\n"
      ],
      "metadata": {
        "id": "2DFFv-8nRKzh"
      },
      "execution_count": 42,
      "outputs": []
    },
    {
      "cell_type": "markdown",
      "source": [
        "The Stroke column is either 0 or 1 that we want to predict, whether a person have stroke or not."
      ],
      "metadata": {
        "id": "PNKIxkNjTVGk"
      }
    },
    {
      "cell_type": "code",
      "source": [
        "train.head()"
      ],
      "metadata": {
        "colab": {
          "base_uri": "https://localhost:8080/",
          "height": 226
        },
        "id": "taZoJgi7R0ZM",
        "outputId": "17d3c998-b3e6-412e-d8bf-fdbf07449b4f"
      },
      "execution_count": 43,
      "outputs": [
        {
          "output_type": "execute_result",
          "data": {
            "text/plain": [
              "      id  gender   age  hypertension  heart_disease  ever_married work_type  \\\n",
              "0  37698  Female  15.0             0              0         False  children   \n",
              "1  24058  Female  50.0             0              0          True  Govt_job   \n",
              "2  27572  Female  25.0             0              0         False   Private   \n",
              "3  36593    Male  38.0             0              0         False   Private   \n",
              "4  60056    Male  53.0             0              0          True   Private   \n",
              "\n",
              "  Residence_type  avg_glucose_level   bmi   smoking_status  stroke  doctor  \n",
              "0          Urban              87.96  21.5  formerly smoked       0       0  \n",
              "1          Rural              77.67  25.6     never smoked       0       0  \n",
              "2          Rural              92.82  24.1     never smoked       0       0  \n",
              "3          Rural             162.72  31.9           smokes       0       0  \n",
              "4          Urban             113.21  28.6           smokes       0       0  "
            ],
            "text/html": [
              "\n",
              "  <div id=\"df-52dd8a36-29f8-4852-ad3c-70a9eb210eaf\" class=\"colab-df-container\">\n",
              "    <div>\n",
              "<style scoped>\n",
              "    .dataframe tbody tr th:only-of-type {\n",
              "        vertical-align: middle;\n",
              "    }\n",
              "\n",
              "    .dataframe tbody tr th {\n",
              "        vertical-align: top;\n",
              "    }\n",
              "\n",
              "    .dataframe thead th {\n",
              "        text-align: right;\n",
              "    }\n",
              "</style>\n",
              "<table border=\"1\" class=\"dataframe\">\n",
              "  <thead>\n",
              "    <tr style=\"text-align: right;\">\n",
              "      <th></th>\n",
              "      <th>id</th>\n",
              "      <th>gender</th>\n",
              "      <th>age</th>\n",
              "      <th>hypertension</th>\n",
              "      <th>heart_disease</th>\n",
              "      <th>ever_married</th>\n",
              "      <th>work_type</th>\n",
              "      <th>Residence_type</th>\n",
              "      <th>avg_glucose_level</th>\n",
              "      <th>bmi</th>\n",
              "      <th>smoking_status</th>\n",
              "      <th>stroke</th>\n",
              "      <th>doctor</th>\n",
              "    </tr>\n",
              "  </thead>\n",
              "  <tbody>\n",
              "    <tr>\n",
              "      <th>0</th>\n",
              "      <td>37698</td>\n",
              "      <td>Female</td>\n",
              "      <td>15.0</td>\n",
              "      <td>0</td>\n",
              "      <td>0</td>\n",
              "      <td>False</td>\n",
              "      <td>children</td>\n",
              "      <td>Urban</td>\n",
              "      <td>87.96</td>\n",
              "      <td>21.5</td>\n",
              "      <td>formerly smoked</td>\n",
              "      <td>0</td>\n",
              "      <td>0</td>\n",
              "    </tr>\n",
              "    <tr>\n",
              "      <th>1</th>\n",
              "      <td>24058</td>\n",
              "      <td>Female</td>\n",
              "      <td>50.0</td>\n",
              "      <td>0</td>\n",
              "      <td>0</td>\n",
              "      <td>True</td>\n",
              "      <td>Govt_job</td>\n",
              "      <td>Rural</td>\n",
              "      <td>77.67</td>\n",
              "      <td>25.6</td>\n",
              "      <td>never smoked</td>\n",
              "      <td>0</td>\n",
              "      <td>0</td>\n",
              "    </tr>\n",
              "    <tr>\n",
              "      <th>2</th>\n",
              "      <td>27572</td>\n",
              "      <td>Female</td>\n",
              "      <td>25.0</td>\n",
              "      <td>0</td>\n",
              "      <td>0</td>\n",
              "      <td>False</td>\n",
              "      <td>Private</td>\n",
              "      <td>Rural</td>\n",
              "      <td>92.82</td>\n",
              "      <td>24.1</td>\n",
              "      <td>never smoked</td>\n",
              "      <td>0</td>\n",
              "      <td>0</td>\n",
              "    </tr>\n",
              "    <tr>\n",
              "      <th>3</th>\n",
              "      <td>36593</td>\n",
              "      <td>Male</td>\n",
              "      <td>38.0</td>\n",
              "      <td>0</td>\n",
              "      <td>0</td>\n",
              "      <td>False</td>\n",
              "      <td>Private</td>\n",
              "      <td>Rural</td>\n",
              "      <td>162.72</td>\n",
              "      <td>31.9</td>\n",
              "      <td>smokes</td>\n",
              "      <td>0</td>\n",
              "      <td>0</td>\n",
              "    </tr>\n",
              "    <tr>\n",
              "      <th>4</th>\n",
              "      <td>60056</td>\n",
              "      <td>Male</td>\n",
              "      <td>53.0</td>\n",
              "      <td>0</td>\n",
              "      <td>0</td>\n",
              "      <td>True</td>\n",
              "      <td>Private</td>\n",
              "      <td>Urban</td>\n",
              "      <td>113.21</td>\n",
              "      <td>28.6</td>\n",
              "      <td>smokes</td>\n",
              "      <td>0</td>\n",
              "      <td>0</td>\n",
              "    </tr>\n",
              "  </tbody>\n",
              "</table>\n",
              "</div>\n",
              "    <div class=\"colab-df-buttons\">\n",
              "\n",
              "  <div class=\"colab-df-container\">\n",
              "    <button class=\"colab-df-convert\" onclick=\"convertToInteractive('df-52dd8a36-29f8-4852-ad3c-70a9eb210eaf')\"\n",
              "            title=\"Convert this dataframe to an interactive table.\"\n",
              "            style=\"display:none;\">\n",
              "\n",
              "  <svg xmlns=\"http://www.w3.org/2000/svg\" height=\"24px\" viewBox=\"0 -960 960 960\">\n",
              "    <path d=\"M120-120v-720h720v720H120Zm60-500h600v-160H180v160Zm220 220h160v-160H400v160Zm0 220h160v-160H400v160ZM180-400h160v-160H180v160Zm440 0h160v-160H620v160ZM180-180h160v-160H180v160Zm440 0h160v-160H620v160Z\"/>\n",
              "  </svg>\n",
              "    </button>\n",
              "\n",
              "  <style>\n",
              "    .colab-df-container {\n",
              "      display:flex;\n",
              "      gap: 12px;\n",
              "    }\n",
              "\n",
              "    .colab-df-convert {\n",
              "      background-color: #E8F0FE;\n",
              "      border: none;\n",
              "      border-radius: 50%;\n",
              "      cursor: pointer;\n",
              "      display: none;\n",
              "      fill: #1967D2;\n",
              "      height: 32px;\n",
              "      padding: 0 0 0 0;\n",
              "      width: 32px;\n",
              "    }\n",
              "\n",
              "    .colab-df-convert:hover {\n",
              "      background-color: #E2EBFA;\n",
              "      box-shadow: 0px 1px 2px rgba(60, 64, 67, 0.3), 0px 1px 3px 1px rgba(60, 64, 67, 0.15);\n",
              "      fill: #174EA6;\n",
              "    }\n",
              "\n",
              "    .colab-df-buttons div {\n",
              "      margin-bottom: 4px;\n",
              "    }\n",
              "\n",
              "    [theme=dark] .colab-df-convert {\n",
              "      background-color: #3B4455;\n",
              "      fill: #D2E3FC;\n",
              "    }\n",
              "\n",
              "    [theme=dark] .colab-df-convert:hover {\n",
              "      background-color: #434B5C;\n",
              "      box-shadow: 0px 1px 3px 1px rgba(0, 0, 0, 0.15);\n",
              "      filter: drop-shadow(0px 1px 2px rgba(0, 0, 0, 0.3));\n",
              "      fill: #FFFFFF;\n",
              "    }\n",
              "  </style>\n",
              "\n",
              "    <script>\n",
              "      const buttonEl =\n",
              "        document.querySelector('#df-52dd8a36-29f8-4852-ad3c-70a9eb210eaf button.colab-df-convert');\n",
              "      buttonEl.style.display =\n",
              "        google.colab.kernel.accessAllowed ? 'block' : 'none';\n",
              "\n",
              "      async function convertToInteractive(key) {\n",
              "        const element = document.querySelector('#df-52dd8a36-29f8-4852-ad3c-70a9eb210eaf');\n",
              "        const dataTable =\n",
              "          await google.colab.kernel.invokeFunction('convertToInteractive',\n",
              "                                                    [key], {});\n",
              "        if (!dataTable) return;\n",
              "\n",
              "        const docLinkHtml = 'Like what you see? Visit the ' +\n",
              "          '<a target=\"_blank\" href=https://colab.research.google.com/notebooks/data_table.ipynb>data table notebook</a>'\n",
              "          + ' to learn more about interactive tables.';\n",
              "        element.innerHTML = '';\n",
              "        dataTable['output_type'] = 'display_data';\n",
              "        await google.colab.output.renderOutput(dataTable, element);\n",
              "        const docLink = document.createElement('div');\n",
              "        docLink.innerHTML = docLinkHtml;\n",
              "        element.appendChild(docLink);\n",
              "      }\n",
              "    </script>\n",
              "  </div>\n",
              "\n",
              "\n",
              "<div id=\"df-e2d8a2cd-ffb2-4a84-87f1-714959e24c76\">\n",
              "  <button class=\"colab-df-quickchart\" onclick=\"quickchart('df-e2d8a2cd-ffb2-4a84-87f1-714959e24c76')\"\n",
              "            title=\"Suggest charts\"\n",
              "            style=\"display:none;\">\n",
              "\n",
              "<svg xmlns=\"http://www.w3.org/2000/svg\" height=\"24px\"viewBox=\"0 0 24 24\"\n",
              "     width=\"24px\">\n",
              "    <g>\n",
              "        <path d=\"M19 3H5c-1.1 0-2 .9-2 2v14c0 1.1.9 2 2 2h14c1.1 0 2-.9 2-2V5c0-1.1-.9-2-2-2zM9 17H7v-7h2v7zm4 0h-2V7h2v10zm4 0h-2v-4h2v4z\"/>\n",
              "    </g>\n",
              "</svg>\n",
              "  </button>\n",
              "\n",
              "<style>\n",
              "  .colab-df-quickchart {\n",
              "      --bg-color: #E8F0FE;\n",
              "      --fill-color: #1967D2;\n",
              "      --hover-bg-color: #E2EBFA;\n",
              "      --hover-fill-color: #174EA6;\n",
              "      --disabled-fill-color: #AAA;\n",
              "      --disabled-bg-color: #DDD;\n",
              "  }\n",
              "\n",
              "  [theme=dark] .colab-df-quickchart {\n",
              "      --bg-color: #3B4455;\n",
              "      --fill-color: #D2E3FC;\n",
              "      --hover-bg-color: #434B5C;\n",
              "      --hover-fill-color: #FFFFFF;\n",
              "      --disabled-bg-color: #3B4455;\n",
              "      --disabled-fill-color: #666;\n",
              "  }\n",
              "\n",
              "  .colab-df-quickchart {\n",
              "    background-color: var(--bg-color);\n",
              "    border: none;\n",
              "    border-radius: 50%;\n",
              "    cursor: pointer;\n",
              "    display: none;\n",
              "    fill: var(--fill-color);\n",
              "    height: 32px;\n",
              "    padding: 0;\n",
              "    width: 32px;\n",
              "  }\n",
              "\n",
              "  .colab-df-quickchart:hover {\n",
              "    background-color: var(--hover-bg-color);\n",
              "    box-shadow: 0 1px 2px rgba(60, 64, 67, 0.3), 0 1px 3px 1px rgba(60, 64, 67, 0.15);\n",
              "    fill: var(--button-hover-fill-color);\n",
              "  }\n",
              "\n",
              "  .colab-df-quickchart-complete:disabled,\n",
              "  .colab-df-quickchart-complete:disabled:hover {\n",
              "    background-color: var(--disabled-bg-color);\n",
              "    fill: var(--disabled-fill-color);\n",
              "    box-shadow: none;\n",
              "  }\n",
              "\n",
              "  .colab-df-spinner {\n",
              "    border: 2px solid var(--fill-color);\n",
              "    border-color: transparent;\n",
              "    border-bottom-color: var(--fill-color);\n",
              "    animation:\n",
              "      spin 1s steps(1) infinite;\n",
              "  }\n",
              "\n",
              "  @keyframes spin {\n",
              "    0% {\n",
              "      border-color: transparent;\n",
              "      border-bottom-color: var(--fill-color);\n",
              "      border-left-color: var(--fill-color);\n",
              "    }\n",
              "    20% {\n",
              "      border-color: transparent;\n",
              "      border-left-color: var(--fill-color);\n",
              "      border-top-color: var(--fill-color);\n",
              "    }\n",
              "    30% {\n",
              "      border-color: transparent;\n",
              "      border-left-color: var(--fill-color);\n",
              "      border-top-color: var(--fill-color);\n",
              "      border-right-color: var(--fill-color);\n",
              "    }\n",
              "    40% {\n",
              "      border-color: transparent;\n",
              "      border-right-color: var(--fill-color);\n",
              "      border-top-color: var(--fill-color);\n",
              "    }\n",
              "    60% {\n",
              "      border-color: transparent;\n",
              "      border-right-color: var(--fill-color);\n",
              "    }\n",
              "    80% {\n",
              "      border-color: transparent;\n",
              "      border-right-color: var(--fill-color);\n",
              "      border-bottom-color: var(--fill-color);\n",
              "    }\n",
              "    90% {\n",
              "      border-color: transparent;\n",
              "      border-bottom-color: var(--fill-color);\n",
              "    }\n",
              "  }\n",
              "</style>\n",
              "\n",
              "  <script>\n",
              "    async function quickchart(key) {\n",
              "      const quickchartButtonEl =\n",
              "        document.querySelector('#' + key + ' button');\n",
              "      quickchartButtonEl.disabled = true;  // To prevent multiple clicks.\n",
              "      quickchartButtonEl.classList.add('colab-df-spinner');\n",
              "      try {\n",
              "        const charts = await google.colab.kernel.invokeFunction(\n",
              "            'suggestCharts', [key], {});\n",
              "      } catch (error) {\n",
              "        console.error('Error during call to suggestCharts:', error);\n",
              "      }\n",
              "      quickchartButtonEl.classList.remove('colab-df-spinner');\n",
              "      quickchartButtonEl.classList.add('colab-df-quickchart-complete');\n",
              "    }\n",
              "    (() => {\n",
              "      let quickchartButtonEl =\n",
              "        document.querySelector('#df-e2d8a2cd-ffb2-4a84-87f1-714959e24c76 button');\n",
              "      quickchartButtonEl.style.display =\n",
              "        google.colab.kernel.accessAllowed ? 'block' : 'none';\n",
              "    })();\n",
              "  </script>\n",
              "</div>\n",
              "\n",
              "    </div>\n",
              "  </div>\n"
            ],
            "application/vnd.google.colaboratory.intrinsic+json": {
              "type": "dataframe",
              "variable_name": "train",
              "summary": "{\n  \"name\": \"train\",\n  \"rows\": 4610,\n  \"fields\": [\n    {\n      \"column\": \"id\",\n      \"properties\": {\n        \"dtype\": \"number\",\n        \"std\": 21198,\n        \"min\": 67,\n        \"max\": 72940,\n        \"num_unique_values\": 4610,\n        \"samples\": [\n          59953,\n          5355,\n          56635\n        ],\n        \"semantic_type\": \"\",\n        \"description\": \"\"\n      }\n    },\n    {\n      \"column\": \"gender\",\n      \"properties\": {\n        \"dtype\": \"category\",\n        \"num_unique_values\": 3,\n        \"samples\": [\n          \"Female\",\n          \"Male\",\n          \"Other\"\n        ],\n        \"semantic_type\": \"\",\n        \"description\": \"\"\n      }\n    },\n    {\n      \"column\": \"age\",\n      \"properties\": {\n        \"dtype\": \"number\",\n        \"std\": 22.60379373983267,\n        \"min\": 0.08,\n        \"max\": 82.0,\n        \"num_unique_values\": 104,\n        \"samples\": [\n          11.0,\n          22.0,\n          1.72\n        ],\n        \"semantic_type\": \"\",\n        \"description\": \"\"\n      }\n    },\n    {\n      \"column\": \"hypertension\",\n      \"properties\": {\n        \"dtype\": \"number\",\n        \"std\": 0,\n        \"min\": 0,\n        \"max\": 1,\n        \"num_unique_values\": 2,\n        \"samples\": [\n          1,\n          0\n        ],\n        \"semantic_type\": \"\",\n        \"description\": \"\"\n      }\n    },\n    {\n      \"column\": \"heart_disease\",\n      \"properties\": {\n        \"dtype\": \"number\",\n        \"std\": 0,\n        \"min\": 0,\n        \"max\": 1,\n        \"num_unique_values\": 2,\n        \"samples\": [\n          1,\n          0\n        ],\n        \"semantic_type\": \"\",\n        \"description\": \"\"\n      }\n    },\n    {\n      \"column\": \"ever_married\",\n      \"properties\": {\n        \"dtype\": \"boolean\",\n        \"num_unique_values\": 2,\n        \"samples\": [\n          true,\n          false\n        ],\n        \"semantic_type\": \"\",\n        \"description\": \"\"\n      }\n    },\n    {\n      \"column\": \"work_type\",\n      \"properties\": {\n        \"dtype\": \"category\",\n        \"num_unique_values\": 5,\n        \"samples\": [\n          \"Govt_job\",\n          \"Never_worked\"\n        ],\n        \"semantic_type\": \"\",\n        \"description\": \"\"\n      }\n    },\n    {\n      \"column\": \"Residence_type\",\n      \"properties\": {\n        \"dtype\": \"category\",\n        \"num_unique_values\": 2,\n        \"samples\": [\n          \"Rural\",\n          \"Urban\"\n        ],\n        \"semantic_type\": \"\",\n        \"description\": \"\"\n      }\n    },\n    {\n      \"column\": \"avg_glucose_level\",\n      \"properties\": {\n        \"dtype\": \"number\",\n        \"std\": 45.21713808611177,\n        \"min\": 55.12,\n        \"max\": 271.74,\n        \"num_unique_values\": 3673,\n        \"samples\": [\n          81.03,\n          95.84\n        ],\n        \"semantic_type\": \"\",\n        \"description\": \"\"\n      }\n    },\n    {\n      \"column\": \"bmi\",\n      \"properties\": {\n        \"dtype\": \"number\",\n        \"std\": 7.832163821312347,\n        \"min\": 10.3,\n        \"max\": 92.0,\n        \"num_unique_values\": 412,\n        \"samples\": [\n          32.1,\n          26.1\n        ],\n        \"semantic_type\": \"\",\n        \"description\": \"\"\n      }\n    },\n    {\n      \"column\": \"smoking_status\",\n      \"properties\": {\n        \"dtype\": \"category\",\n        \"num_unique_values\": 4,\n        \"samples\": [\n          \"never smoked\",\n          \"Unknown\"\n        ],\n        \"semantic_type\": \"\",\n        \"description\": \"\"\n      }\n    },\n    {\n      \"column\": \"stroke\",\n      \"properties\": {\n        \"dtype\": \"number\",\n        \"std\": 0,\n        \"min\": 0,\n        \"max\": 1,\n        \"num_unique_values\": 2,\n        \"samples\": [\n          1,\n          0\n        ],\n        \"semantic_type\": \"\",\n        \"description\": \"\"\n      }\n    },\n    {\n      \"column\": \"doctor\",\n      \"properties\": {\n        \"dtype\": \"number\",\n        \"std\": 2,\n        \"min\": 0,\n        \"max\": 7,\n        \"num_unique_values\": 8,\n        \"samples\": [\n          1,\n          5\n        ],\n        \"semantic_type\": \"\",\n        \"description\": \"\"\n      }\n    }\n  ]\n}"
            }
          },
          "metadata": {},
          "execution_count": 43
        }
      ]
    },
    {
      "cell_type": "markdown",
      "source": [
        "See the columns foe our Feature data X and target Y."
      ],
      "metadata": {
        "id": "VE_hEKlpTq7O"
      }
    },
    {
      "cell_type": "code",
      "source": [
        "train.columns"
      ],
      "metadata": {
        "colab": {
          "base_uri": "https://localhost:8080/"
        },
        "id": "jVlqsvvBT0l3",
        "outputId": "6e1d003f-f73b-417a-aa4b-6ab8fcab85e2"
      },
      "execution_count": 44,
      "outputs": [
        {
          "output_type": "execute_result",
          "data": {
            "text/plain": [
              "Index(['id', 'gender', 'age', 'hypertension', 'heart_disease', 'ever_married',\n",
              "       'work_type', 'Residence_type', 'avg_glucose_level', 'bmi',\n",
              "       'smoking_status', 'stroke', 'doctor'],\n",
              "      dtype='object')"
            ]
          },
          "metadata": {},
          "execution_count": 44
        }
      ]
    },
    {
      "cell_type": "markdown",
      "source": [
        "We have these Features in our dataset and the groups which is the doctor(whose gonna get the data) and the strokes that we are trying to predict."
      ],
      "metadata": {
        "id": "_M50Cw18U3kp"
      }
    },
    {
      "cell_type": "code",
      "source": [
        "def get_X_y(train):\n",
        "    FEATURES = [\n",
        "        \"gender\",\n",
        "        \"age\",\n",
        "        \"hypertension\",\n",
        "        \"heart_disease\",\n",
        "        \"ever_married\",\n",
        "        \"work_type\",\n",
        "        \"Residence_type\",\n",
        "        \"avg_glucose_level\",\n",
        "        \"bmi\",\n",
        "        \"smoking_status\",\n",
        "    ]\n",
        "\n",
        "    GROUPS = \"doctor\"\n",
        "\n",
        "    TARGET = \"stroke\"\n",
        "\n",
        "    X = train[FEATURES]\n",
        "    y = train[TARGET]\n",
        "    groups = train[GROUPS]\n",
        "    return X, y, groups\n",
        ""
      ],
      "metadata": {
        "id": "uIzcpjbKUlQH"
      },
      "execution_count": 45,
      "outputs": []
    },
    {
      "cell_type": "markdown",
      "source": [
        "## Creating a classifier"
      ],
      "metadata": {
        "id": "mjL4i7Z_XSB_"
      }
    },
    {
      "cell_type": "markdown",
      "source": [
        "lgbm thats a gradient boosted tree ML model, set parameters numbers of estimators"
      ],
      "metadata": {
        "id": "_XnMhAQ3XXTH"
      }
    },
    {
      "cell_type": "code",
      "source": [
        "X, y, groups = get_X_y(train)\n",
        "classifier = lgb.LGBMClassifier(n_estimators=100)\n",
        "classifier.fit(X, y)"
      ],
      "metadata": {
        "colab": {
          "base_uri": "https://localhost:8080/",
          "height": 221
        },
        "id": "mYI_f5NPX3CW",
        "outputId": "bb838f88-4892-42aa-ea7f-ebc8fab9e09f"
      },
      "execution_count": 46,
      "outputs": [
        {
          "output_type": "stream",
          "name": "stdout",
          "text": [
            "[LightGBM] [Info] Number of positive: 223, number of negative: 4387\n",
            "[LightGBM] [Info] Auto-choosing row-wise multi-threading, the overhead of testing was 0.000396 seconds.\n",
            "You can set `force_row_wise=true` to remove the overhead.\n",
            "And if memory is not enough, you can set `force_col_wise=true`.\n",
            "[LightGBM] [Info] Total Bins 635\n",
            "[LightGBM] [Info] Number of data points in the train set: 4610, number of used features: 10\n",
            "[LightGBM] [Info] [binary:BoostFromScore]: pavg=0.048373 -> initscore=-2.979229\n",
            "[LightGBM] [Info] Start training from score -2.979229\n"
          ]
        },
        {
          "output_type": "execute_result",
          "data": {
            "text/plain": [
              "LGBMClassifier()"
            ],
            "text/html": [
              "<style>#sk-container-id-4 {color: black;}#sk-container-id-4 pre{padding: 0;}#sk-container-id-4 div.sk-toggleable {background-color: white;}#sk-container-id-4 label.sk-toggleable__label {cursor: pointer;display: block;width: 100%;margin-bottom: 0;padding: 0.3em;box-sizing: border-box;text-align: center;}#sk-container-id-4 label.sk-toggleable__label-arrow:before {content: \"▸\";float: left;margin-right: 0.25em;color: #696969;}#sk-container-id-4 label.sk-toggleable__label-arrow:hover:before {color: black;}#sk-container-id-4 div.sk-estimator:hover label.sk-toggleable__label-arrow:before {color: black;}#sk-container-id-4 div.sk-toggleable__content {max-height: 0;max-width: 0;overflow: hidden;text-align: left;background-color: #f0f8ff;}#sk-container-id-4 div.sk-toggleable__content pre {margin: 0.2em;color: black;border-radius: 0.25em;background-color: #f0f8ff;}#sk-container-id-4 input.sk-toggleable__control:checked~div.sk-toggleable__content {max-height: 200px;max-width: 100%;overflow: auto;}#sk-container-id-4 input.sk-toggleable__control:checked~label.sk-toggleable__label-arrow:before {content: \"▾\";}#sk-container-id-4 div.sk-estimator input.sk-toggleable__control:checked~label.sk-toggleable__label {background-color: #d4ebff;}#sk-container-id-4 div.sk-label input.sk-toggleable__control:checked~label.sk-toggleable__label {background-color: #d4ebff;}#sk-container-id-4 input.sk-hidden--visually {border: 0;clip: rect(1px 1px 1px 1px);clip: rect(1px, 1px, 1px, 1px);height: 1px;margin: -1px;overflow: hidden;padding: 0;position: absolute;width: 1px;}#sk-container-id-4 div.sk-estimator {font-family: monospace;background-color: #f0f8ff;border: 1px dotted black;border-radius: 0.25em;box-sizing: border-box;margin-bottom: 0.5em;}#sk-container-id-4 div.sk-estimator:hover {background-color: #d4ebff;}#sk-container-id-4 div.sk-parallel-item::after {content: \"\";width: 100%;border-bottom: 1px solid gray;flex-grow: 1;}#sk-container-id-4 div.sk-label:hover label.sk-toggleable__label {background-color: #d4ebff;}#sk-container-id-4 div.sk-serial::before {content: \"\";position: absolute;border-left: 1px solid gray;box-sizing: border-box;top: 0;bottom: 0;left: 50%;z-index: 0;}#sk-container-id-4 div.sk-serial {display: flex;flex-direction: column;align-items: center;background-color: white;padding-right: 0.2em;padding-left: 0.2em;position: relative;}#sk-container-id-4 div.sk-item {position: relative;z-index: 1;}#sk-container-id-4 div.sk-parallel {display: flex;align-items: stretch;justify-content: center;background-color: white;position: relative;}#sk-container-id-4 div.sk-item::before, #sk-container-id-4 div.sk-parallel-item::before {content: \"\";position: absolute;border-left: 1px solid gray;box-sizing: border-box;top: 0;bottom: 0;left: 50%;z-index: -1;}#sk-container-id-4 div.sk-parallel-item {display: flex;flex-direction: column;z-index: 1;position: relative;background-color: white;}#sk-container-id-4 div.sk-parallel-item:first-child::after {align-self: flex-end;width: 50%;}#sk-container-id-4 div.sk-parallel-item:last-child::after {align-self: flex-start;width: 50%;}#sk-container-id-4 div.sk-parallel-item:only-child::after {width: 0;}#sk-container-id-4 div.sk-dashed-wrapped {border: 1px dashed gray;margin: 0 0.4em 0.5em 0.4em;box-sizing: border-box;padding-bottom: 0.4em;background-color: white;}#sk-container-id-4 div.sk-label label {font-family: monospace;font-weight: bold;display: inline-block;line-height: 1.2em;}#sk-container-id-4 div.sk-label-container {text-align: center;}#sk-container-id-4 div.sk-container {/* jupyter's `normalize.less` sets `[hidden] { display: none; }` but bootstrap.min.css set `[hidden] { display: none !important; }` so we also need the `!important` here to be able to override the default hidden behavior on the sphinx rendered scikit-learn.org. See: https://github.com/scikit-learn/scikit-learn/issues/21755 */display: inline-block !important;position: relative;}#sk-container-id-4 div.sk-text-repr-fallback {display: none;}</style><div id=\"sk-container-id-4\" class=\"sk-top-container\"><div class=\"sk-text-repr-fallback\"><pre>LGBMClassifier()</pre><b>In a Jupyter environment, please rerun this cell to show the HTML representation or trust the notebook. <br />On GitHub, the HTML representation is unable to render, please try loading this page with nbviewer.org.</b></div><div class=\"sk-container\" hidden><div class=\"sk-item\"><div class=\"sk-estimator sk-toggleable\"><input class=\"sk-toggleable__control sk-hidden--visually\" id=\"sk-estimator-id-4\" type=\"checkbox\" checked><label for=\"sk-estimator-id-4\" class=\"sk-toggleable__label sk-toggleable__label-arrow\">LGBMClassifier</label><div class=\"sk-toggleable__content\"><pre>LGBMClassifier()</pre></div></div></div></div></div>"
            ]
          },
          "metadata": {},
          "execution_count": 46
        }
      ]
    },
    {
      "cell_type": "code",
      "source": [
        "# Predict on training set\n",
        "pred = classifier.predict(X)\n",
        "\n",
        "# Predict the Probabilities instead of Binary Values\n",
        "pred_prob = classifier.predict_proba(X)[:, 1]\n",
        "pred_prob"
      ],
      "metadata": {
        "colab": {
          "base_uri": "https://localhost:8080/"
        },
        "id": "OnLSDbeYYJ3W",
        "outputId": "6ca371a3-8030-47ef-9ca2-699657eaa6bc"
      },
      "execution_count": 47,
      "outputs": [
        {
          "output_type": "execute_result",
          "data": {
            "text/plain": [
              "array([9.65900938e-05, 1.30846105e-02, 1.40245540e-04, ...,\n",
              "       6.29188044e-05, 1.11648109e-03, 9.56244336e-05])"
            ]
          },
          "metadata": {},
          "execution_count": 47
        }
      ]
    },
    {
      "cell_type": "code",
      "source": [
        "acc_score = accuracy_score(y, pred)\n",
        "auc_score = roc_auc_score(y, pred_prob)\n",
        "\n",
        "print(f'The score on the training set is accuracy: {acc_score:0.4f} and AUC of {auc_score:0.4f}')"
      ],
      "metadata": {
        "colab": {
          "base_uri": "https://localhost:8080/"
        },
        "id": "w0-lHa0OZH-o",
        "outputId": "07a61479-18e9-4580-8a50-ed4eb426543f"
      },
      "execution_count": 48,
      "outputs": [
        {
          "output_type": "stream",
          "name": "stdout",
          "text": [
            "The score on the training set is accuracy: 0.9911 and AUC of 0.9997\n"
          ]
        }
      ]
    },
    {
      "cell_type": "markdown",
      "source": [
        "## Check on holdout set\n",
        "We keep some data to the side as a holdout set, that we suppose it will be the future data that we will use our model to predict on, we can check score on that to see if the model scpre ic 99% accurate or not."
      ],
      "metadata": {
        "id": "rvX8b9D1aRGQ"
      }
    },
    {
      "cell_type": "code",
      "source": [
        "X_holdout, y_holdout, groups_holdout = get_X_y(holdout)\n",
        "\n",
        "pred = classifier.predict(X_holdout)\n",
        "pred_prob = classifier.predict_proba(X_holdout)[:, 1]\n",
        "acc_score = accuracy_score(y_holdout, pred)\n",
        "auc_score = roc_auc_score(y_holdout, pred_prob)\n",
        "print(\n",
        "    f\"Our accuracy on the holdout set is {acc_score:0.4f} and AUC is {auc_score:0.4f}\"\n",
        ")"
      ],
      "metadata": {
        "colab": {
          "base_uri": "https://localhost:8080/"
        },
        "id": "SqnYyO19bTEc",
        "outputId": "ebbe497f-bf35-4c3b-cc46-f8c45dd1a74a"
      },
      "execution_count": 49,
      "outputs": [
        {
          "output_type": "stream",
          "name": "stdout",
          "text": [
            "Our accuracy on the holdout set is 0.9380 and AUC is 0.7802\n"
          ]
        }
      ]
    },
    {
      "cell_type": "markdown",
      "source": [
        "# Baseline\n",
        "Predicting all zeros"
      ],
      "metadata": {
        "id": "e066-vVndiax"
      }
    },
    {
      "cell_type": "markdown",
      "source": [
        "As we predict on unseen data model is not predicting well it predict good on training data but for unseen data it is not good . for solving that problem we use cross-validation"
      ],
      "metadata": {
        "id": "3_1Oci6WfGrx"
      }
    },
    {
      "cell_type": "code",
      "source": [
        "acc_score = accuracy_score(y, np.zeros_like(y))\n",
        "auc_score = roc_auc_score(y, np.zeros_like(y))\n",
        "print(\n",
        "    f\"Our baseline on the holdout set is {acc_score:0.4f} and AUC is {auc_score:0.4f}\"\n",
        ")"
      ],
      "metadata": {
        "colab": {
          "base_uri": "https://localhost:8080/"
        },
        "id": "sxutEXBHdpJO",
        "outputId": "256b5953-4e2c-40aa-ebb8-9ad98690e823"
      },
      "execution_count": 50,
      "outputs": [
        {
          "output_type": "stream",
          "name": "stdout",
          "text": [
            "Our baseline on the holdout set is 0.9516 and AUC is 0.5000\n"
          ]
        }
      ]
    },
    {
      "cell_type": "markdown",
      "source": [
        "For Cross-validation let split into test and train.\n",
        "splitting our training data into training set and a validation set.\n",
        "shuffle use to make sure the order isn't impacting our split and stratified (even distribution of positive samples in each set). Consider using if you have a small or unbalanced dataset."
      ],
      "metadata": {
        "id": "9dgj-t64f3yM"
      }
    },
    {
      "cell_type": "code",
      "source": [
        "X, y, groups = get_X_y(train)\n",
        "\n",
        "X_tr, X_val, y_tr, y_val = train_test_split(X, y, test_size=0.1)\n",
        "clf = lgb.LGBMClassifier(n_estimators=100, max_depth=3)\n",
        "clf.fit(X_tr, y_tr)\n",
        "pred = clf.predict(X_val)\n",
        "pred_prob = clf.predict_proba(X_val)[:, 1]\n"
      ],
      "metadata": {
        "colab": {
          "base_uri": "https://localhost:8080/"
        },
        "id": "8C5DlQ2mgm0q",
        "outputId": "a15c0b49-fc58-42f4-c883-20fdf6f47fc7"
      },
      "execution_count": 51,
      "outputs": [
        {
          "output_type": "stream",
          "name": "stdout",
          "text": [
            "[LightGBM] [Info] Number of positive: 199, number of negative: 3950\n",
            "[LightGBM] [Info] Auto-choosing row-wise multi-threading, the overhead of testing was 0.000437 seconds.\n",
            "You can set `force_row_wise=true` to remove the overhead.\n",
            "And if memory is not enough, you can set `force_col_wise=true`.\n",
            "[LightGBM] [Info] Total Bins 635\n",
            "[LightGBM] [Info] Number of data points in the train set: 4149, number of used features: 10\n",
            "[LightGBM] [Info] [binary:BoostFromScore]: pavg=0.047963 -> initscore=-2.988166\n",
            "[LightGBM] [Info] Start training from score -2.988166\n",
            "[LightGBM] [Warning] No further splits with positive gain, best gain: -inf\n",
            "[LightGBM] [Warning] No further splits with positive gain, best gain: -inf\n",
            "[LightGBM] [Warning] No further splits with positive gain, best gain: -inf\n",
            "[LightGBM] [Warning] No further splits with positive gain, best gain: -inf\n",
            "[LightGBM] [Warning] No further splits with positive gain, best gain: -inf\n",
            "[LightGBM] [Warning] No further splits with positive gain, best gain: -inf\n",
            "[LightGBM] [Warning] No further splits with positive gain, best gain: -inf\n",
            "[LightGBM] [Warning] No further splits with positive gain, best gain: -inf\n",
            "[LightGBM] [Warning] No further splits with positive gain, best gain: -inf\n",
            "[LightGBM] [Warning] No further splits with positive gain, best gain: -inf\n",
            "[LightGBM] [Warning] No further splits with positive gain, best gain: -inf\n",
            "[LightGBM] [Warning] No further splits with positive gain, best gain: -inf\n",
            "[LightGBM] [Warning] No further splits with positive gain, best gain: -inf\n",
            "[LightGBM] [Warning] No further splits with positive gain, best gain: -inf\n",
            "[LightGBM] [Warning] No further splits with positive gain, best gain: -inf\n",
            "[LightGBM] [Warning] No further splits with positive gain, best gain: -inf\n",
            "[LightGBM] [Warning] No further splits with positive gain, best gain: -inf\n",
            "[LightGBM] [Warning] No further splits with positive gain, best gain: -inf\n",
            "[LightGBM] [Warning] No further splits with positive gain, best gain: -inf\n",
            "[LightGBM] [Warning] No further splits with positive gain, best gain: -inf\n",
            "[LightGBM] [Warning] No further splits with positive gain, best gain: -inf\n",
            "[LightGBM] [Warning] No further splits with positive gain, best gain: -inf\n",
            "[LightGBM] [Warning] No further splits with positive gain, best gain: -inf\n",
            "[LightGBM] [Warning] No further splits with positive gain, best gain: -inf\n",
            "[LightGBM] [Warning] No further splits with positive gain, best gain: -inf\n",
            "[LightGBM] [Warning] No further splits with positive gain, best gain: -inf\n",
            "[LightGBM] [Warning] No further splits with positive gain, best gain: -inf\n",
            "[LightGBM] [Warning] No further splits with positive gain, best gain: -inf\n",
            "[LightGBM] [Warning] No further splits with positive gain, best gain: -inf\n",
            "[LightGBM] [Warning] No further splits with positive gain, best gain: -inf\n",
            "[LightGBM] [Warning] No further splits with positive gain, best gain: -inf\n",
            "[LightGBM] [Warning] No further splits with positive gain, best gain: -inf\n",
            "[LightGBM] [Warning] No further splits with positive gain, best gain: -inf\n",
            "[LightGBM] [Warning] No further splits with positive gain, best gain: -inf\n",
            "[LightGBM] [Warning] No further splits with positive gain, best gain: -inf\n",
            "[LightGBM] [Warning] No further splits with positive gain, best gain: -inf\n",
            "[LightGBM] [Warning] No further splits with positive gain, best gain: -inf\n",
            "[LightGBM] [Warning] No further splits with positive gain, best gain: -inf\n",
            "[LightGBM] [Warning] No further splits with positive gain, best gain: -inf\n",
            "[LightGBM] [Warning] No further splits with positive gain, best gain: -inf\n",
            "[LightGBM] [Warning] No further splits with positive gain, best gain: -inf\n",
            "[LightGBM] [Warning] No further splits with positive gain, best gain: -inf\n",
            "[LightGBM] [Warning] No further splits with positive gain, best gain: -inf\n",
            "[LightGBM] [Warning] No further splits with positive gain, best gain: -inf\n",
            "[LightGBM] [Warning] No further splits with positive gain, best gain: -inf\n",
            "[LightGBM] [Warning] No further splits with positive gain, best gain: -inf\n",
            "[LightGBM] [Warning] No further splits with positive gain, best gain: -inf\n",
            "[LightGBM] [Warning] No further splits with positive gain, best gain: -inf\n",
            "[LightGBM] [Warning] No further splits with positive gain, best gain: -inf\n",
            "[LightGBM] [Warning] No further splits with positive gain, best gain: -inf\n",
            "[LightGBM] [Warning] No further splits with positive gain, best gain: -inf\n",
            "[LightGBM] [Warning] No further splits with positive gain, best gain: -inf\n",
            "[LightGBM] [Warning] No further splits with positive gain, best gain: -inf\n",
            "[LightGBM] [Warning] No further splits with positive gain, best gain: -inf\n",
            "[LightGBM] [Warning] No further splits with positive gain, best gain: -inf\n",
            "[LightGBM] [Warning] No further splits with positive gain, best gain: -inf\n",
            "[LightGBM] [Warning] No further splits with positive gain, best gain: -inf\n",
            "[LightGBM] [Warning] No further splits with positive gain, best gain: -inf\n",
            "[LightGBM] [Warning] No further splits with positive gain, best gain: -inf\n",
            "[LightGBM] [Warning] No further splits with positive gain, best gain: -inf\n",
            "[LightGBM] [Warning] No further splits with positive gain, best gain: -inf\n",
            "[LightGBM] [Warning] No further splits with positive gain, best gain: -inf\n",
            "[LightGBM] [Warning] No further splits with positive gain, best gain: -inf\n",
            "[LightGBM] [Warning] No further splits with positive gain, best gain: -inf\n",
            "[LightGBM] [Warning] No further splits with positive gain, best gain: -inf\n",
            "[LightGBM] [Warning] No further splits with positive gain, best gain: -inf\n",
            "[LightGBM] [Warning] No further splits with positive gain, best gain: -inf\n",
            "[LightGBM] [Warning] No further splits with positive gain, best gain: -inf\n",
            "[LightGBM] [Warning] No further splits with positive gain, best gain: -inf\n",
            "[LightGBM] [Warning] No further splits with positive gain, best gain: -inf\n",
            "[LightGBM] [Warning] No further splits with positive gain, best gain: -inf\n",
            "[LightGBM] [Warning] No further splits with positive gain, best gain: -inf\n",
            "[LightGBM] [Warning] No further splits with positive gain, best gain: -inf\n",
            "[LightGBM] [Warning] No further splits with positive gain, best gain: -inf\n",
            "[LightGBM] [Warning] No further splits with positive gain, best gain: -inf\n",
            "[LightGBM] [Warning] No further splits with positive gain, best gain: -inf\n",
            "[LightGBM] [Warning] No further splits with positive gain, best gain: -inf\n",
            "[LightGBM] [Warning] No further splits with positive gain, best gain: -inf\n",
            "[LightGBM] [Warning] No further splits with positive gain, best gain: -inf\n",
            "[LightGBM] [Warning] No further splits with positive gain, best gain: -inf\n",
            "[LightGBM] [Warning] No further splits with positive gain, best gain: -inf\n",
            "[LightGBM] [Warning] No further splits with positive gain, best gain: -inf\n",
            "[LightGBM] [Warning] No further splits with positive gain, best gain: -inf\n",
            "[LightGBM] [Warning] No further splits with positive gain, best gain: -inf\n",
            "[LightGBM] [Warning] No further splits with positive gain, best gain: -inf\n",
            "[LightGBM] [Warning] No further splits with positive gain, best gain: -inf\n",
            "[LightGBM] [Warning] No further splits with positive gain, best gain: -inf\n",
            "[LightGBM] [Warning] No further splits with positive gain, best gain: -inf\n",
            "[LightGBM] [Warning] No further splits with positive gain, best gain: -inf\n",
            "[LightGBM] [Warning] No further splits with positive gain, best gain: -inf\n",
            "[LightGBM] [Warning] No further splits with positive gain, best gain: -inf\n",
            "[LightGBM] [Warning] No further splits with positive gain, best gain: -inf\n",
            "[LightGBM] [Warning] No further splits with positive gain, best gain: -inf\n",
            "[LightGBM] [Warning] No further splits with positive gain, best gain: -inf\n",
            "[LightGBM] [Warning] No further splits with positive gain, best gain: -inf\n",
            "[LightGBM] [Warning] No further splits with positive gain, best gain: -inf\n",
            "[LightGBM] [Warning] No further splits with positive gain, best gain: -inf\n",
            "[LightGBM] [Warning] No further splits with positive gain, best gain: -inf\n",
            "[LightGBM] [Warning] No further splits with positive gain, best gain: -inf\n",
            "[LightGBM] [Warning] No further splits with positive gain, best gain: -inf\n"
          ]
        }
      ]
    },
    {
      "cell_type": "code",
      "source": [
        "acc_score = accuracy_score(y_val, pred)\n",
        "auc_score = roc_auc_score(y_val, pred_prob)\n",
        "print(\n",
        "    f\"Our accuracy on the validation set is {acc_score:0.4f} and AUC is {auc_score:0.4f}\"\n",
        ")"
      ],
      "metadata": {
        "colab": {
          "base_uri": "https://localhost:8080/"
        },
        "id": "nWG5R5SwhUYw",
        "outputId": "ad948150-bb96-4684-fc64-c827d6fbf31f"
      },
      "execution_count": 52,
      "outputs": [
        {
          "output_type": "stream",
          "name": "stdout",
          "text": [
            "Our accuracy on the validation set is 0.9501 and AUC is 0.8214\n"
          ]
        }
      ]
    },
    {
      "cell_type": "markdown",
      "source": [
        "## Cross_Validation"
      ],
      "metadata": {
        "id": "1uER7OPRhdOR"
      }
    },
    {
      "cell_type": "markdown",
      "source": [
        "Plotting to see different type of KFold and to use the suitable one."
      ],
      "metadata": {
        "id": "a-ELu1QErs4v"
      }
    },
    {
      "cell_type": "code",
      "source": [
        "from matplotlib.patches import Patch\n",
        "cmap_data = plt.cm.Paired\n",
        "cmap_cv = plt.cm.coolwarm\n",
        "\n",
        "def visualize_groups(classes, groups, name):\n",
        "    # Visualize dataset groups\n",
        "    fig, ax = plt.subplots()\n",
        "    ax.scatter(\n",
        "        range(len(groups)),\n",
        "        [0.5] * len(groups),\n",
        "        c=groups,\n",
        "        marker=\"_\",\n",
        "        lw=50,\n",
        "        cmap=cmap_data,\n",
        "    )\n",
        "    ax.scatter(\n",
        "        range(len(groups)),\n",
        "            [3.5] * len(groups),\n",
        "        c=classes,\n",
        "        marker=\"_\",\n",
        "        lw=50,\n",
        "        cmap=cmap_data,\n",
        "    )\n",
        "    ax.set(\n",
        "        ylim=[-1, 5],\n",
        "        yticks=[0.5, 3.5],\n",
        "        yticklabels=[\"Data\\ngroup\", \"Data\\nclass\"],\n",
        "        xlabel=\"Sample index\",\n",
        "    )\n",
        "\n",
        "def plot_cv_indices(cv, X, y, group, ax, n_splits, lw=25):\n",
        "    \"\"\"Create a sample plot for indices of a cross-validation object.\"\"\"\n",
        "\n",
        "    # Generate the training/testing visualizations for each CV split\n",
        "    for ii, (tr, tt) in enumerate(cv.split(X=X, y=y, groups=group)):\n",
        "        # Fill in indices with the training/test groups\n",
        "        indices = np.array([np.nan] * len(X))\n",
        "        indices[tt] = 1\n",
        "        indices[tr] = 0\n",
        "\n",
        "        # Visualize the results\n",
        "        ax.scatter(\n",
        "            range(len(indices)),\n",
        "            [ii + 0.5] * len(indices),\n",
        "            c=indices,\n",
        "            marker=\"_\",\n",
        "            lw=lw,\n",
        "                  cmap=cmap_cv,\n",
        "            vmin=-0.2,\n",
        "            vmax=1.2,\n",
        "        )\n",
        "\n",
        "    # Plot the data classes and groups at the end\n",
        "    ax.scatter(\n",
        "        range(len(X)), [ii + 1.5] * len(X), c=y, marker=\"_\", lw=lw, cmap=cmap_data\n",
        "    )\n",
        "\n",
        "    ax.scatter(\n",
        "        range(len(X)), [ii + 2.5] * len(X), c=group, marker=\"_\", lw=lw, cmap=cmap_data\n",
        "    )\n",
        "      # Formatting\n",
        "    yticklabels = list(range(n_splits)) + [\"class\", \"group\"]\n",
        "    ax.set(\n",
        "        yticks=np.arange(n_splits + 2) + 0.5,\n",
        "        yticklabels=yticklabels,\n",
        "        xlabel=\"Sample index\",\n",
        "        ylabel=\"CV iteration\",\n",
        "        ylim=[n_splits + 2.2, -0.2],\n",
        "        xlim=[0, 100],\n",
        "    )\n",
        "    ax.set_title(\"{}\".format(type(cv).__name__), fontsize=15)\n",
        "    return ax\n",
        "\n",
        "\n",
        "def plot_cv(cv, X, y, groups, n_splits=5):\n",
        "    this_cv = cv(n_splits=n_splits)\n",
        "    fig, ax = plt.subplots(figsize=(15, 5))\n",
        "    plot_cv_indices(this_cv, X, y, groups, ax, n_splits)\n",
        "\n",
        "    ax.legend(\n",
        "        [Patch(color=cmap_cv(0.8)), Patch(color=cmap_cv(0.02))],\n",
        "        [\"Testing set\", \"Training set\"],\n",
        "        loc=(1.02, 0.8),\n",
        "    )\n",
        "    plt.tight_layout()\n",
        "    fig.subplots_adjust(right=0.7)\n",
        "    plt.show()\n",
        "\n",
        "def get_fake_X_y():\n",
        "    # Fake Generate the class/group data for an example\n",
        "    n_points = 100\n",
        "    X_ = np.random.randn(100, 10)\n",
        "\n",
        "    percentiles_classes = [0.1, 0.9]\n",
        "    y_ = np.hstack([[ii] * int(100 * perc) for ii, perc in enumerate(percentiles_classes)])\n",
        "\n",
        "    # Evenly spaced groups repeated once\n",
        "    groups_ = np.hstack([[ii] * 10 for ii in range(10)])\n",
        "    return X_, y_, groups_\n"
      ],
      "metadata": {
        "id": "rj7j_STUrBMx"
      },
      "execution_count": 57,
      "outputs": []
    },
    {
      "cell_type": "markdown",
      "source": [
        "## KFold\n",
        "\n",
        "\n",
        "*   Split dataset into k consecutive folds (without shuffling by default).\n"
      ],
      "metadata": {
        "id": "XdwA0azar2zx"
      }
    },
    {
      "cell_type": "code",
      "source": [
        "kf = KFold()\n",
        "X_, y_, groups_ = get_fake_X_y()\n",
        "plot_cv(KFold, X_, y_, groups_)"
      ],
      "metadata": {
        "colab": {
          "base_uri": "https://localhost:8080/",
          "height": 472
        },
        "id": "P4xVDbZMri0T",
        "outputId": "cb5e7045-8f47-4782-f7fa-d1c380e76ec9"
      },
      "execution_count": 58,
      "outputs": [
        {
          "output_type": "display_data",
          "data": {
            "text/plain": [
              "<Figure size 1500x500 with 1 Axes>"
            ],
            "image/png": "[encoded data removed]"
          },
          "metadata": {}
        }
      ]
    },
    {
      "cell_type": "markdown",
      "source": [
        "## Stratified KFold\n",
        "\n",
        "\n",
        "*   KFold but the folds are made by preserving the percentage of samples for each class.\n",
        "\n"
      ],
      "metadata": {
        "id": "AMqwD2gjsOIn"
      }
    },
    {
      "cell_type": "code",
      "source": [
        "skf = StratifiedKFold()\n",
        "X_, y_, groups_ = get_fake_X_y()\n",
        "plot_cv(StratifiedKFold, X_, y_, groups_)"
      ],
      "metadata": {
        "colab": {
          "base_uri": "https://localhost:8080/",
          "height": 472
        },
        "id": "9XXTNj7esYbi",
        "outputId": "5b8c8504-8aa8-45e0-fa82-545224ff89f9"
      },
      "execution_count": 59,
      "outputs": [
        {
          "output_type": "display_data",
          "data": {
            "text/plain": [
              "<Figure size 1500x500 with 1 Axes>"
            ],
            "image/png": "[encoded data removed]"
          },
          "metadata": {}
        }
      ]
    },
    {
      "cell_type": "markdown",
      "source": [
        "## Group KFold\n",
        "The folds are approximately balanced in the sense that the number of distinct groups is approximately the same in each fold."
      ],
      "metadata": {
        "id": "V5vchdjCsgYt"
      }
    },
    {
      "cell_type": "code",
      "source": [
        "gkf = GroupKFold()\n",
        "X_, y_, groups_ = get_fake_X_y()\n",
        "plot_cv(GroupKFold, X_, y_, groups_)"
      ],
      "metadata": {
        "colab": {
          "base_uri": "https://localhost:8080/",
          "height": 472
        },
        "id": "8QfYBRUOsj_Z",
        "outputId": "006b60cd-0bd3-495f-9bd2-caa645f83b1c"
      },
      "execution_count": 60,
      "outputs": [
        {
          "output_type": "display_data",
          "data": {
            "text/plain": [
              "<Figure size 1500x500 with 1 Axes>"
            ],
            "image/png": "[encoded data removed]"
          },
          "metadata": {}
        }
      ]
    },
    {
      "cell_type": "markdown",
      "source": [
        "## Stratified Group KFold\n",
        "The difference between GroupKFold and StratifiedGroupKFold is that the former attempts to create balanced folds such that the number of distinct groups is approximately the same in each fold, whereas StratifiedGroupKFold attempts to create folds which preserve the percentage of samples for each class as much as possible given the constraint of non-overlapping groups between splits."
      ],
      "metadata": {
        "id": "IByZwDUMsr8Z"
      }
    },
    {
      "cell_type": "code",
      "source": [
        "gskf = StratifiedGroupKFold()\n",
        "X_, y_, groups_ = get_fake_X_y()\n",
        "np.random.shuffle(y_)\n",
        "plot_cv(StratifiedGroupKFold, X_, y_, groups_)"
      ],
      "metadata": {
        "colab": {
          "base_uri": "https://localhost:8080/",
          "height": 472
        },
        "id": "lynD1fKvst_X",
        "outputId": "1695bc3f-42c6-427f-9b26-bec383c8023e"
      },
      "execution_count": 61,
      "outputs": [
        {
          "output_type": "display_data",
          "data": {
            "text/plain": [
              "<Figure size 1500x500 with 1 Axes>"
            ],
            "image/png": "[encoded data removed]"
          },
          "metadata": {}
        }
      ]
    },
    {
      "cell_type": "markdown",
      "source": [
        "## Time Series Split"
      ],
      "metadata": {
        "id": "-yHvcAW9symz"
      }
    },
    {
      "cell_type": "code",
      "source": [
        "tss = TimeSeriesSplit()\n",
        "X_, y_, groups_ = get_fake_X_y()\n",
        "np.random.shuffle(y_)\n",
        "plot_cv(TimeSeriesSplit, X_, y_, groups_)"
      ],
      "metadata": {
        "colab": {
          "base_uri": "https://localhost:8080/",
          "height": 472
        },
        "id": "BYegm5pjs3dX",
        "outputId": "330b8fb1-8a5f-4c31-9d85-45cfd890a059"
      },
      "execution_count": 62,
      "outputs": [
        {
          "output_type": "display_data",
          "data": {
            "text/plain": [
              "<Figure size 1500x500 with 1 Axes>"
            ],
            "image/png": "[encoded data removed]"
          },
          "metadata": {}
        }
      ]
    },
    {
      "cell_type": "markdown",
      "source": [
        "# Stratified Group KFold\n",
        "\n",
        "\n",
        "*   The difference between GroupKFold and StratifiedGroupKFold is that the former attempts to create balanced folds such that the number of distinct groups is approximately the same in each fold, whereas StratifiedGroupKFold attempts to create folds which preserve the percentage of samples for each class as much as possible given the constraint of non-overlapping groups between splits.\n",
        "\n"
      ],
      "metadata": {
        "id": "Mw3LStMVhiAq"
      }
    },
    {
      "cell_type": "code",
      "source": [
        "sgk = StratifiedGroupKFold(n_splits=5, shuffle=True, random_state=529)\n",
        "\n",
        "X, y, groups = get_X_y(train)\n",
        "\n",
        "fold = 0\n",
        "aucs = []\n",
        "for train_idx, val_idx in sgk.split(X, y, groups):\n",
        "    X_tr = X.loc[train_idx]\n",
        "    y_tr = y.loc[train_idx]\n",
        "\n",
        "    X_val = X.loc[val_idx]\n",
        "    y_val = y.loc[val_idx]\n",
        "\n",
        "    # Fit Model on Train\n",
        "    clf = lgb.LGBMClassifier(n_estimators=100)\n",
        "    clf.fit(X_tr, y_tr)\n",
        "    pred = clf.predict(X_val)\n",
        "    pred_prob = clf.predict_proba(X_val)[:, 1]\n",
        "    acc_score = accuracy_score(y_val, pred)\n",
        "    auc_score = roc_auc_score(y_val, pred_prob)\n",
        "    print(f\"======= Fold {fold} ========\")\n",
        "    print(\n",
        "        f\"Our accuracy on the validation set is {acc_score:0.4f} and AUC is {auc_score:0.4f}\"\n",
        "    )\n",
        "    fold += 1\n",
        "    aucs.append(auc_score)\n",
        "oof_auc = np.mean(aucs)\n",
        "print(f'Our out of fold AUC score is {oof_auc:0.4f}')"
      ],
      "metadata": {
        "colab": {
          "base_uri": "https://localhost:8080/"
        },
        "id": "Q9OYHlEoh1N8",
        "outputId": "452e17bd-4859-4490-c447-88aba99329b5"
      },
      "execution_count": 56,
      "outputs": [
        {
          "output_type": "stream",
          "name": "stdout",
          "text": [
            "[LightGBM] [Info] Number of positive: 177, number of negative: 3245\n",
            "[LightGBM] [Info] Auto-choosing row-wise multi-threading, the overhead of testing was 0.000336 seconds.\n",
            "You can set `force_row_wise=true` to remove the overhead.\n",
            "And if memory is not enough, you can set `force_col_wise=true`.\n",
            "[LightGBM] [Info] Total Bins 633\n",
            "[LightGBM] [Info] Number of data points in the train set: 3422, number of used features: 10\n",
            "[LightGBM] [Info] [binary:BoostFromScore]: pavg=0.051724 -> initscore=-2.908721\n",
            "[LightGBM] [Info] Start training from score -2.908721\n",
            "======= Fold 0 ========\n",
            "Our accuracy on the validation set is 0.9537 and AUC is 0.8349\n",
            "[LightGBM] [Info] Number of positive: 159, number of negative: 3254\n",
            "[LightGBM] [Info] Auto-choosing row-wise multi-threading, the overhead of testing was 0.000337 seconds.\n",
            "You can set `force_row_wise=true` to remove the overhead.\n",
            "And if memory is not enough, you can set `force_col_wise=true`.\n",
            "[LightGBM] [Info] Total Bins 631\n",
            "[LightGBM] [Info] Number of data points in the train set: 3413, number of used features: 10\n",
            "[LightGBM] [Info] [binary:BoostFromScore]: pavg=0.046587 -> initscore=-3.018736\n",
            "[LightGBM] [Info] Start training from score -3.018736\n",
            "======= Fold 1 ========\n",
            "Our accuracy on the validation set is 0.9407 and AUC is 0.8165\n",
            "[LightGBM] [Info] Number of positive: 202, number of negative: 3895\n",
            "[LightGBM] [Info] Auto-choosing row-wise multi-threading, the overhead of testing was 0.000355 seconds.\n",
            "You can set `force_row_wise=true` to remove the overhead.\n",
            "And if memory is not enough, you can set `force_col_wise=true`.\n",
            "[LightGBM] [Info] Total Bins 634\n",
            "[LightGBM] [Info] Number of data points in the train set: 4097, number of used features: 10\n",
            "[LightGBM] [Info] [binary:BoostFromScore]: pavg=0.049304 -> initscore=-2.959181\n",
            "[LightGBM] [Info] Start training from score -2.959181\n",
            "======= Fold 2 ========\n",
            "Our accuracy on the validation set is 0.9493 and AUC is 0.8709\n",
            "[LightGBM] [Info] Number of positive: 160, number of negative: 3268\n",
            "[LightGBM] [Info] Auto-choosing row-wise multi-threading, the overhead of testing was 0.000306 seconds.\n",
            "You can set `force_row_wise=true` to remove the overhead.\n",
            "And if memory is not enough, you can set `force_col_wise=true`.\n",
            "[LightGBM] [Info] Total Bins 632\n",
            "[LightGBM] [Info] Number of data points in the train set: 3428, number of used features: 10\n",
            "[LightGBM] [Info] [binary:BoostFromScore]: pavg=0.046674 -> initscore=-3.016760\n",
            "[LightGBM] [Info] Start training from score -3.016760\n",
            "======= Fold 3 ========\n",
            "Our accuracy on the validation set is 0.9433 and AUC is 0.8305\n",
            "[LightGBM] [Info] Number of positive: 194, number of negative: 3886\n",
            "[LightGBM] [Info] Auto-choosing row-wise multi-threading, the overhead of testing was 0.000346 seconds.\n",
            "You can set `force_row_wise=true` to remove the overhead.\n",
            "And if memory is not enough, you can set `force_col_wise=true`.\n",
            "[LightGBM] [Info] Total Bins 634\n",
            "[LightGBM] [Info] Number of data points in the train set: 4080, number of used features: 10\n",
            "[LightGBM] [Info] [binary:BoostFromScore]: pavg=0.047549 -> initscore=-2.997277\n",
            "[LightGBM] [Info] Start training from score -2.997277\n",
            "======= Fold 4 ========\n",
            "Our accuracy on the validation set is 0.9434 and AUC is 0.8579\n",
            "Our out of fold AUC score is 0.8421\n"
          ]
        }
      ]
    }
  ]
}